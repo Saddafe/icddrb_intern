{
 "cells": [
  {
   "cell_type": "code",
   "execution_count": 1,
   "id": "1f625001",
   "metadata": {},
   "outputs": [],
   "source": [
    "x = ['orange', 'a', 6, 'blue']"
   ]
  },
  {
   "cell_type": "code",
   "execution_count": 2,
   "id": "1f67c0df",
   "metadata": {},
   "outputs": [
    {
     "name": "stdout",
     "output_type": "stream",
     "text": [
      "['orange', 'a', 6, 'blue']\n"
     ]
    }
   ],
   "source": [
    "print(x)"
   ]
  },
  {
   "cell_type": "code",
   "execution_count": 5,
   "id": "fb2d67be",
   "metadata": {},
   "outputs": [
    {
     "name": "stdout",
     "output_type": "stream",
     "text": [
      "<class 'list'>\n"
     ]
    }
   ],
   "source": [
    "print(type(x))"
   ]
  },
  {
   "cell_type": "code",
   "execution_count": 7,
   "id": "85953d49",
   "metadata": {},
   "outputs": [],
   "source": [
    "y = ('orange', 'a', 6, 'blue')"
   ]
  },
  {
   "cell_type": "code",
   "execution_count": 8,
   "id": "e545ab24",
   "metadata": {},
   "outputs": [
    {
     "name": "stdout",
     "output_type": "stream",
     "text": [
      "<class 'tuple'>\n"
     ]
    }
   ],
   "source": [
    "print(type(y))"
   ]
  },
  {
   "cell_type": "code",
   "execution_count": 9,
   "id": "f90140e8",
   "metadata": {},
   "outputs": [],
   "source": [
    "z = tuple(x)"
   ]
  },
  {
   "cell_type": "code",
   "execution_count": 10,
   "id": "0ac6d3e4",
   "metadata": {},
   "outputs": [
    {
     "name": "stdout",
     "output_type": "stream",
     "text": [
      "('orange', 'a', 6, 'blue')\n"
     ]
    }
   ],
   "source": [
    "print(z)"
   ]
  },
  {
   "cell_type": "code",
   "execution_count": 12,
   "id": "eaedc313",
   "metadata": {},
   "outputs": [
    {
     "data": {
      "text/plain": [
       "tuple"
      ]
     },
     "execution_count": 12,
     "metadata": {},
     "output_type": "execute_result"
    }
   ],
   "source": [
    "type(z)"
   ]
  },
  {
   "cell_type": "code",
   "execution_count": 13,
   "id": "aab46547",
   "metadata": {},
   "outputs": [],
   "source": [
    "a = 2.8"
   ]
  },
  {
   "cell_type": "code",
   "execution_count": 14,
   "id": "de3e93f3",
   "metadata": {},
   "outputs": [],
   "source": [
    "b = int(a)"
   ]
  },
  {
   "cell_type": "code",
   "execution_count": 15,
   "id": "67a026f9",
   "metadata": {},
   "outputs": [
    {
     "name": "stdout",
     "output_type": "stream",
     "text": [
      "2\n"
     ]
    }
   ],
   "source": [
    "print(b)"
   ]
  },
  {
   "cell_type": "code",
   "execution_count": 16,
   "id": "9f84afab",
   "metadata": {},
   "outputs": [],
   "source": [
    "p = 'Hello'"
   ]
  },
  {
   "cell_type": "code",
   "execution_count": 17,
   "id": "839bc2bd",
   "metadata": {},
   "outputs": [],
   "source": [
    "t = list(p)"
   ]
  },
  {
   "cell_type": "code",
   "execution_count": 18,
   "id": "94714f97",
   "metadata": {},
   "outputs": [
    {
     "name": "stdout",
     "output_type": "stream",
     "text": [
      "['H', 'e', 'l', 'l', 'o']\n"
     ]
    }
   ],
   "source": [
    "print(t)"
   ]
  },
  {
   "cell_type": "code",
   "execution_count": 19,
   "id": "73ea9969",
   "metadata": {},
   "outputs": [],
   "source": [
    "x = ['orange', 'a', 6, 'blue']"
   ]
  },
  {
   "cell_type": "code",
   "execution_count": 26,
   "id": "2be745f3",
   "metadata": {},
   "outputs": [
    {
     "data": {
      "text/plain": [
       "int"
      ]
     },
     "execution_count": 26,
     "metadata": {},
     "output_type": "execute_result"
    }
   ],
   "source": [
    "type(x[2])"
   ]
  },
  {
   "cell_type": "code",
   "execution_count": 27,
   "id": "decd0202",
   "metadata": {},
   "outputs": [
    {
     "name": "stdout",
     "output_type": "stream",
     "text": [
      "12\n"
     ]
    }
   ],
   "source": [
    "A='Hello, World'\n",
    "l=len(A)\n",
    "print(l)"
   ]
  },
  {
   "cell_type": "code",
   "execution_count": 32,
   "id": "92d3d175",
   "metadata": {},
   "outputs": [
    {
     "name": "stdout",
     "output_type": "stream",
     "text": [
      "e\n"
     ]
    }
   ],
   "source": [
    "print(A[1])"
   ]
  },
  {
   "cell_type": "code",
   "execution_count": 28,
   "id": "dadc830a",
   "metadata": {},
   "outputs": [
    {
     "data": {
      "text/plain": [
       "str"
      ]
     },
     "execution_count": 28,
     "metadata": {},
     "output_type": "execute_result"
    }
   ],
   "source": [
    "type(A)"
   ]
  },
  {
   "cell_type": "code",
   "execution_count": 29,
   "id": "94a082cc",
   "metadata": {},
   "outputs": [],
   "source": [
    "c = list(A)"
   ]
  },
  {
   "cell_type": "code",
   "execution_count": 30,
   "id": "d7dae13f",
   "metadata": {},
   "outputs": [
    {
     "name": "stdout",
     "output_type": "stream",
     "text": [
      "['H', 'e', 'l', 'l', 'o', ',', ' ', 'W', 'o', 'r', 'l', 'd']\n"
     ]
    }
   ],
   "source": [
    "print(c)"
   ]
  },
  {
   "cell_type": "code",
   "execution_count": 31,
   "id": "81d2388f",
   "metadata": {},
   "outputs": [
    {
     "data": {
      "text/plain": [
       "12"
      ]
     },
     "execution_count": 31,
     "metadata": {},
     "output_type": "execute_result"
    }
   ],
   "source": [
    "len(c)"
   ]
  },
  {
   "cell_type": "code",
   "execution_count": 33,
   "id": "4d5bbfc3",
   "metadata": {},
   "outputs": [
    {
     "name": "stdout",
     "output_type": "stream",
     "text": [
      "The elephant is the largest animal in the world!\n"
     ]
    }
   ],
   "source": [
    "txt1 = \" The elephant is the largest animal in the world! \"\n",
    "print(txt1.strip())"
   ]
  },
  {
   "cell_type": "code",
   "execution_count": 38,
   "id": "a9b94909",
   "metadata": {},
   "outputs": [
    {
     "name": "stdout",
     "output_type": "stream",
     "text": [
      "['The', 'elephant', 'is', 'the', 'largest', 'animal', 'in', 'the', 'world!']\n"
     ]
    }
   ],
   "source": [
    "txt = \"The elephant is the largest animal in the world!\"\n",
    "print(txt.split(\" \"))"
   ]
  },
  {
   "cell_type": "code",
   "execution_count": 8,
   "id": "9d71d811",
   "metadata": {},
   "outputs": [
    {
     "name": "stdout",
     "output_type": "stream",
     "text": [
      "['cherry', 'apple', 'banana']\n"
     ]
    }
   ],
   "source": [
    "m = 'cherry', 'apple', 'banana'\n",
    "mylist = list(m)\n",
    "print(mylist)"
   ]
  },
  {
   "cell_type": "code",
   "execution_count": 9,
   "id": "9279ddb9",
   "metadata": {},
   "outputs": [
    {
     "name": "stdout",
     "output_type": "stream",
     "text": [
      "['apple', 'banana', 'cherry']\n"
     ]
    }
   ],
   "source": [
    "mylist.sort()\n",
    "print(mylist)"
   ]
  },
  {
   "cell_type": "code",
   "execution_count": 10,
   "id": "f5000f20",
   "metadata": {},
   "outputs": [
    {
     "name": "stdout",
     "output_type": "stream",
     "text": [
      "['cherry', 'banana', 'apple']\n"
     ]
    }
   ],
   "source": [
    "mylist.sort(reverse = True)\n",
    "print(mylist)"
   ]
  },
  {
   "cell_type": "code",
   "execution_count": 11,
   "id": "edb8628f",
   "metadata": {},
   "outputs": [
    {
     "name": "stdout",
     "output_type": "stream",
     "text": [
      "cherry\n",
      "banana\n",
      "apple\n"
     ]
    }
   ],
   "source": [
    "for i in range (len(mylist)):\n",
    "    print(mylist[i])"
   ]
  },
  {
   "cell_type": "code",
   "execution_count": 12,
   "id": "d3d5bd90",
   "metadata": {},
   "outputs": [
    {
     "name": "stdout",
     "output_type": "stream",
     "text": [
      "cherry\n",
      "banana\n",
      "apple\n"
     ]
    },
    {
     "data": {
      "text/plain": [
       "[None, None, None]"
      ]
     },
     "execution_count": 12,
     "metadata": {},
     "output_type": "execute_result"
    }
   ],
   "source": [
    "[print(x) for x in mylist]"
   ]
  },
  {
   "cell_type": "code",
   "execution_count": 13,
   "id": "34f3fc23",
   "metadata": {},
   "outputs": [
    {
     "name": "stdout",
     "output_type": "stream",
     "text": [
      "{'brand': 'Xaiomi', 'model': 'Redmi 9', 'year': 2021}\n"
     ]
    }
   ],
   "source": [
    "mobile = {\n",
    "\"brand\": \"Xaiomi\",\n",
    "\"model\": \"Redmi 9\",\n",
    "\"year\": 2021\n",
    "}\n",
    "\n",
    "print(mobile)"
   ]
  },
  {
   "cell_type": "code",
   "execution_count": 16,
   "id": "645568c6",
   "metadata": {},
   "outputs": [
    {
     "data": {
      "text/plain": [
       "'Redmi 9'"
      ]
     },
     "execution_count": 16,
     "metadata": {},
     "output_type": "execute_result"
    }
   ],
   "source": [
    "mobile[\"model\"]"
   ]
  },
  {
   "cell_type": "code",
   "execution_count": 17,
   "id": "dba019ac",
   "metadata": {},
   "outputs": [
    {
     "data": {
      "text/plain": [
       "dict_keys(['brand', 'model', 'year'])"
      ]
     },
     "execution_count": 17,
     "metadata": {},
     "output_type": "execute_result"
    }
   ],
   "source": [
    "mobile.keys()"
   ]
  },
  {
   "cell_type": "code",
   "execution_count": 18,
   "id": "dc4e6d88",
   "metadata": {},
   "outputs": [
    {
     "data": {
      "text/plain": [
       "dict_values(['Xaiomi', 'Redmi 9', 2021])"
      ]
     },
     "execution_count": 18,
     "metadata": {},
     "output_type": "execute_result"
    }
   ],
   "source": [
    "mobile.values()"
   ]
  },
  {
   "cell_type": "code",
   "execution_count": 19,
   "id": "cf17d55d",
   "metadata": {},
   "outputs": [
    {
     "name": "stdout",
     "output_type": "stream",
     "text": [
      "{'brand': 'Xaiomi', 'model': 'Redmi 9', 'year': 2000}\n"
     ]
    }
   ],
   "source": [
    "mobile[\"year\"]=2000\n",
    "print(mobile)"
   ]
  },
  {
   "cell_type": "code",
   "execution_count": null,
   "id": "8aef3dd4",
   "metadata": {},
   "outputs": [],
   "source": []
  }
 ],
 "metadata": {
  "kernelspec": {
   "display_name": "Python 3 (ipykernel)",
   "language": "python",
   "name": "python3"
  },
  "language_info": {
   "codemirror_mode": {
    "name": "ipython",
    "version": 3
   },
   "file_extension": ".py",
   "mimetype": "text/x-python",
   "name": "python",
   "nbconvert_exporter": "python",
   "pygments_lexer": "ipython3",
   "version": "3.10.9"
  }
 },
 "nbformat": 4,
 "nbformat_minor": 5
}
